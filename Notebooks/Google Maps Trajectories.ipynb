{
 "cells": [
  {
   "cell_type": "code",
   "execution_count": 1,
   "metadata": {},
   "outputs": [],
   "source": [
    "import pandas as pd\n",
    "import os"
   ]
  },
  {
   "cell_type": "code",
   "execution_count": 27,
   "metadata": {},
   "outputs": [],
   "source": [
    "def load_google_map_dfs():\n",
    "    column_names = ['latitude', 'longitude']\n",
    "    file_names = ['BottomRoute.csv', 'MiddleRoute.csv', 'TopRoute.csv', 'TrainToAirMiddle.csv']\n",
    "    base_path = os.getcwd()\n",
    "\n",
    "    bottom_df = pd.read_csv(base_path + '/' + file_names[0])\n",
    "    bottom_df.columns = column_names\n",
    "\n",
    "    middle_df = pd.read_csv(base_path + '/' + file_names[1])\n",
    "    middle_df.columns = column_names\n",
    "    \n",
    "    middle_df2 = pd.read_csv(base_path + '/' + file_names[3])\n",
    "    middle_df2.columns = column_names\n",
    "\n",
    "    top_df = pd.read_csv(base_path + '/' + file_names[2])\n",
    "    top_df.columns = column_names\n",
    "    \n",
    "    return bottom_df, middle_df, middle_df2, top_df"
   ]
  },
  {
   "cell_type": "code",
   "execution_count": 28,
   "metadata": {},
   "outputs": [],
   "source": [
    "bottom_df, middle_df, middle_df2, top_df = load_google_map_dfs()"
   ]
  },
  {
   "cell_type": "code",
   "execution_count": 8,
   "metadata": {},
   "outputs": [
    {
     "data": {
      "text/html": [
       "<div>\n",
       "<style scoped>\n",
       "    .dataframe tbody tr th:only-of-type {\n",
       "        vertical-align: middle;\n",
       "    }\n",
       "\n",
       "    .dataframe tbody tr th {\n",
       "        vertical-align: top;\n",
       "    }\n",
       "\n",
       "    .dataframe thead th {\n",
       "        text-align: right;\n",
       "    }\n",
       "</style>\n",
       "<table border=\"1\" class=\"dataframe\">\n",
       "  <thead>\n",
       "    <tr style=\"text-align: right;\">\n",
       "      <th></th>\n",
       "      <th>latitude</th>\n",
       "      <th>longitude</th>\n",
       "    </tr>\n",
       "  </thead>\n",
       "  <tbody>\n",
       "    <tr>\n",
       "      <th>0</th>\n",
       "      <td>22.592250</td>\n",
       "      <td>114.028469</td>\n",
       "    </tr>\n",
       "    <tr>\n",
       "      <th>1</th>\n",
       "      <td>22.587607</td>\n",
       "      <td>114.017786</td>\n",
       "    </tr>\n",
       "    <tr>\n",
       "      <th>2</th>\n",
       "      <td>22.578825</td>\n",
       "      <td>114.014961</td>\n",
       "    </tr>\n",
       "    <tr>\n",
       "      <th>3</th>\n",
       "      <td>22.566919</td>\n",
       "      <td>114.016857</td>\n",
       "    </tr>\n",
       "    <tr>\n",
       "      <th>4</th>\n",
       "      <td>22.555838</td>\n",
       "      <td>114.015682</td>\n",
       "    </tr>\n",
       "  </tbody>\n",
       "</table>\n",
       "</div>"
      ],
      "text/plain": [
       "    latitude   longitude\n",
       "0  22.592250  114.028469\n",
       "1  22.587607  114.017786\n",
       "2  22.578825  114.014961\n",
       "3  22.566919  114.016857\n",
       "4  22.555838  114.015682"
      ]
     },
     "execution_count": 8,
     "metadata": {},
     "output_type": "execute_result"
    }
   ],
   "source": [
    "bottom_df.head()"
   ]
  },
  {
   "cell_type": "code",
   "execution_count": 29,
   "metadata": {},
   "outputs": [],
   "source": [
    "max_lat = 23.0\n",
    "min_lat = 22.0\n",
    "\n",
    "min_long = 113\n",
    "max_long = 115\n",
    "\n",
    "diff_in_latitude = max_lat - min_lat\n",
    "diff_in_longitude = max_long - min_long\n",
    "\n",
    "# 20 rows so\n",
    "cell_size = diff_in_latitude / 20.0"
   ]
  },
  {
   "cell_type": "code",
   "execution_count": 30,
   "metadata": {},
   "outputs": [],
   "source": [
    "def concat(row, col):\n",
    "    return str(row) + '-' + str(col)\n",
    "\n",
    "\n",
    "def map_gps_to_box(latitude, longitude):\n",
    "    row_number = int((latitude - min_lat) // cell_size)\n",
    "    col_number = int((longitude - min_long) // cell_size)\n",
    "\n",
    "    if col_number < 0 or row_number < 0:\n",
    "        return -1, -1, -1\n",
    "\n",
    "    cell_number_str = str(row_number) + str(col_number)\n",
    "\n",
    "    return concat(row_number, col_number), row_number, col_number"
   ]
  },
  {
   "cell_type": "code",
   "execution_count": 14,
   "metadata": {},
   "outputs": [],
   "source": [
    "def map_gps_to_cell(df):\n",
    "    cells = []\n",
    "    rows = []\n",
    "    cols = []\n",
    "\n",
    "    for index, row in df.iterrows():\n",
    "        lat = row['latitude']\n",
    "        long = row['longitude']\n",
    "\n",
    "        cell_number, cell_row, cell_col = map_gps_to_box(lat, long)\n",
    "\n",
    "        cells.append(cell_number)\n",
    "        cols.append(cell_col)\n",
    "        rows.append(cell_row)\n",
    "\n",
    "    df['cell'] = cells\n",
    "    df['row'] = rows\n",
    "    df['column'] = cols\n",
    "\n",
    "    return df"
   ]
  },
  {
   "cell_type": "code",
   "execution_count": 15,
   "metadata": {},
   "outputs": [
    {
     "data": {
      "text/html": [
       "<div>\n",
       "<style scoped>\n",
       "    .dataframe tbody tr th:only-of-type {\n",
       "        vertical-align: middle;\n",
       "    }\n",
       "\n",
       "    .dataframe tbody tr th {\n",
       "        vertical-align: top;\n",
       "    }\n",
       "\n",
       "    .dataframe thead th {\n",
       "        text-align: right;\n",
       "    }\n",
       "</style>\n",
       "<table border=\"1\" class=\"dataframe\">\n",
       "  <thead>\n",
       "    <tr style=\"text-align: right;\">\n",
       "      <th></th>\n",
       "      <th>latitude</th>\n",
       "      <th>longitude</th>\n",
       "      <th>cell</th>\n",
       "      <th>row</th>\n",
       "      <th>column</th>\n",
       "    </tr>\n",
       "  </thead>\n",
       "  <tbody>\n",
       "    <tr>\n",
       "      <th>0</th>\n",
       "      <td>22.592250</td>\n",
       "      <td>114.028469</td>\n",
       "      <td>11-20</td>\n",
       "      <td>11</td>\n",
       "      <td>20</td>\n",
       "    </tr>\n",
       "    <tr>\n",
       "      <th>1</th>\n",
       "      <td>22.587607</td>\n",
       "      <td>114.017786</td>\n",
       "      <td>11-20</td>\n",
       "      <td>11</td>\n",
       "      <td>20</td>\n",
       "    </tr>\n",
       "    <tr>\n",
       "      <th>2</th>\n",
       "      <td>22.578825</td>\n",
       "      <td>114.014961</td>\n",
       "      <td>11-20</td>\n",
       "      <td>11</td>\n",
       "      <td>20</td>\n",
       "    </tr>\n",
       "    <tr>\n",
       "      <th>3</th>\n",
       "      <td>22.566919</td>\n",
       "      <td>114.016857</td>\n",
       "      <td>11-20</td>\n",
       "      <td>11</td>\n",
       "      <td>20</td>\n",
       "    </tr>\n",
       "    <tr>\n",
       "      <th>4</th>\n",
       "      <td>22.555838</td>\n",
       "      <td>114.015682</td>\n",
       "      <td>11-20</td>\n",
       "      <td>11</td>\n",
       "      <td>20</td>\n",
       "    </tr>\n",
       "  </tbody>\n",
       "</table>\n",
       "</div>"
      ],
      "text/plain": [
       "    latitude   longitude   cell  row  column\n",
       "0  22.592250  114.028469  11-20   11      20\n",
       "1  22.587607  114.017786  11-20   11      20\n",
       "2  22.578825  114.014961  11-20   11      20\n",
       "3  22.566919  114.016857  11-20   11      20\n",
       "4  22.555838  114.015682  11-20   11      20"
      ]
     },
     "execution_count": 15,
     "metadata": {},
     "output_type": "execute_result"
    }
   ],
   "source": [
    "bottom_df = map_gps_to_cell(bottom_df)\n",
    "bottom_df.head()"
   ]
  },
  {
   "cell_type": "code",
   "execution_count": 20,
   "metadata": {},
   "outputs": [
    {
     "name": "stdout",
     "output_type": "stream",
     "text": [
      "['11-20' '11-19' '11-18' '10-18' '11-17' '12-17' '12-16']\n"
     ]
    }
   ],
   "source": [
    "bottom_route = bottom_df['cell'].unique()\n",
    "print(bottom_route)"
   ]
  },
  {
   "cell_type": "code",
   "execution_count": 17,
   "metadata": {},
   "outputs": [
    {
     "data": {
      "text/html": [
       "<div>\n",
       "<style scoped>\n",
       "    .dataframe tbody tr th:only-of-type {\n",
       "        vertical-align: middle;\n",
       "    }\n",
       "\n",
       "    .dataframe tbody tr th {\n",
       "        vertical-align: top;\n",
       "    }\n",
       "\n",
       "    .dataframe thead th {\n",
       "        text-align: right;\n",
       "    }\n",
       "</style>\n",
       "<table border=\"1\" class=\"dataframe\">\n",
       "  <thead>\n",
       "    <tr style=\"text-align: right;\">\n",
       "      <th></th>\n",
       "      <th>latitude</th>\n",
       "      <th>longitude</th>\n",
       "      <th>cell</th>\n",
       "      <th>row</th>\n",
       "      <th>column</th>\n",
       "    </tr>\n",
       "  </thead>\n",
       "  <tbody>\n",
       "    <tr>\n",
       "      <th>0</th>\n",
       "      <td>22.589633</td>\n",
       "      <td>114.028388</td>\n",
       "      <td>11-20</td>\n",
       "      <td>11</td>\n",
       "      <td>20</td>\n",
       "    </tr>\n",
       "    <tr>\n",
       "      <th>1</th>\n",
       "      <td>22.590421</td>\n",
       "      <td>114.027369</td>\n",
       "      <td>11-20</td>\n",
       "      <td>11</td>\n",
       "      <td>20</td>\n",
       "    </tr>\n",
       "    <tr>\n",
       "      <th>2</th>\n",
       "      <td>22.587888</td>\n",
       "      <td>114.011918</td>\n",
       "      <td>11-20</td>\n",
       "      <td>11</td>\n",
       "      <td>20</td>\n",
       "    </tr>\n",
       "    <tr>\n",
       "      <th>3</th>\n",
       "      <td>22.586818</td>\n",
       "      <td>114.001772</td>\n",
       "      <td>11-20</td>\n",
       "      <td>11</td>\n",
       "      <td>20</td>\n",
       "    </tr>\n",
       "    <tr>\n",
       "      <th>4</th>\n",
       "      <td>22.582684</td>\n",
       "      <td>113.987648</td>\n",
       "      <td>11-19</td>\n",
       "      <td>11</td>\n",
       "      <td>19</td>\n",
       "    </tr>\n",
       "  </tbody>\n",
       "</table>\n",
       "</div>"
      ],
      "text/plain": [
       "    latitude   longitude   cell  row  column\n",
       "0  22.589633  114.028388  11-20   11      20\n",
       "1  22.590421  114.027369  11-20   11      20\n",
       "2  22.587888  114.011918  11-20   11      20\n",
       "3  22.586818  114.001772  11-20   11      20\n",
       "4  22.582684  113.987648  11-19   11      19"
      ]
     },
     "execution_count": 17,
     "metadata": {},
     "output_type": "execute_result"
    }
   ],
   "source": [
    "middle_df = map_gps_to_cell(middle_df)\n",
    "middle_df.head()"
   ]
  },
  {
   "cell_type": "code",
   "execution_count": 18,
   "metadata": {},
   "outputs": [
    {
     "name": "stdout",
     "output_type": "stream",
     "text": [
      "['11-20' '11-19' '11-18' '12-17' '12-16']\n"
     ]
    }
   ],
   "source": [
    "middle_route = middle_df['cell'].unique()\n",
    "print(middle_route)"
   ]
  },
  {
   "cell_type": "code",
   "execution_count": 21,
   "metadata": {},
   "outputs": [
    {
     "data": {
      "text/html": [
       "<div>\n",
       "<style scoped>\n",
       "    .dataframe tbody tr th:only-of-type {\n",
       "        vertical-align: middle;\n",
       "    }\n",
       "\n",
       "    .dataframe tbody tr th {\n",
       "        vertical-align: top;\n",
       "    }\n",
       "\n",
       "    .dataframe thead th {\n",
       "        text-align: right;\n",
       "    }\n",
       "</style>\n",
       "<table border=\"1\" class=\"dataframe\">\n",
       "  <thead>\n",
       "    <tr style=\"text-align: right;\">\n",
       "      <th></th>\n",
       "      <th>latitude</th>\n",
       "      <th>longitude</th>\n",
       "      <th>cell</th>\n",
       "      <th>row</th>\n",
       "      <th>column</th>\n",
       "    </tr>\n",
       "  </thead>\n",
       "  <tbody>\n",
       "    <tr>\n",
       "      <th>0</th>\n",
       "      <td>22.608881</td>\n",
       "      <td>114.024576</td>\n",
       "      <td>12-20</td>\n",
       "      <td>12</td>\n",
       "      <td>20</td>\n",
       "    </tr>\n",
       "    <tr>\n",
       "      <th>1</th>\n",
       "      <td>22.609737</td>\n",
       "      <td>114.023058</td>\n",
       "      <td>12-20</td>\n",
       "      <td>12</td>\n",
       "      <td>20</td>\n",
       "    </tr>\n",
       "    <tr>\n",
       "      <th>2</th>\n",
       "      <td>22.606507</td>\n",
       "      <td>114.019390</td>\n",
       "      <td>12-20</td>\n",
       "      <td>12</td>\n",
       "      <td>20</td>\n",
       "    </tr>\n",
       "    <tr>\n",
       "      <th>3</th>\n",
       "      <td>22.603939</td>\n",
       "      <td>114.016523</td>\n",
       "      <td>12-20</td>\n",
       "      <td>12</td>\n",
       "      <td>20</td>\n",
       "    </tr>\n",
       "    <tr>\n",
       "      <th>4</th>\n",
       "      <td>22.601059</td>\n",
       "      <td>114.013951</td>\n",
       "      <td>12-20</td>\n",
       "      <td>12</td>\n",
       "      <td>20</td>\n",
       "    </tr>\n",
       "  </tbody>\n",
       "</table>\n",
       "</div>"
      ],
      "text/plain": [
       "    latitude   longitude   cell  row  column\n",
       "0  22.608881  114.024576  12-20   12      20\n",
       "1  22.609737  114.023058  12-20   12      20\n",
       "2  22.606507  114.019390  12-20   12      20\n",
       "3  22.603939  114.016523  12-20   12      20\n",
       "4  22.601059  114.013951  12-20   12      20"
      ]
     },
     "execution_count": 21,
     "metadata": {},
     "output_type": "execute_result"
    }
   ],
   "source": [
    "top_df = map_gps_to_cell(top_df)\n",
    "top_df.head()"
   ]
  },
  {
   "cell_type": "code",
   "execution_count": 25,
   "metadata": {},
   "outputs": [
    {
     "name": "stdout",
     "output_type": "stream",
     "text": [
      "['12-20' '11-20' '13-19' '13-18' '13-17' '12-17' '12-16']\n"
     ]
    }
   ],
   "source": [
    "top_route = top_df['cell'].unique()\n",
    "print(top_route)"
   ]
  },
  {
   "cell_type": "code",
   "execution_count": 26,
   "metadata": {},
   "outputs": [],
   "source": [
    "bottom_df.to_csv('bottomGoogleMapRoute.csv', encoding='utf-8', index=False)\n",
    "middle_df.to_csv('middleGoogleMapRoute.csv', encoding='utf-8', index=False)\n",
    "top_df.to_csv('topGoogleMapRoute.csv', encoding='utf-8', index=False)"
   ]
  },
  {
   "cell_type": "code",
   "execution_count": 31,
   "metadata": {},
   "outputs": [
    {
     "data": {
      "text/html": [
       "<div>\n",
       "<style scoped>\n",
       "    .dataframe tbody tr th:only-of-type {\n",
       "        vertical-align: middle;\n",
       "    }\n",
       "\n",
       "    .dataframe tbody tr th {\n",
       "        vertical-align: top;\n",
       "    }\n",
       "\n",
       "    .dataframe thead th {\n",
       "        text-align: right;\n",
       "    }\n",
       "</style>\n",
       "<table border=\"1\" class=\"dataframe\">\n",
       "  <thead>\n",
       "    <tr style=\"text-align: right;\">\n",
       "      <th></th>\n",
       "      <th>latitude</th>\n",
       "      <th>longitude</th>\n",
       "      <th>cell</th>\n",
       "      <th>row</th>\n",
       "      <th>column</th>\n",
       "    </tr>\n",
       "  </thead>\n",
       "  <tbody>\n",
       "    <tr>\n",
       "      <th>0</th>\n",
       "      <td>22.614515</td>\n",
       "      <td>113.834647</td>\n",
       "      <td>12-16</td>\n",
       "      <td>12</td>\n",
       "      <td>16</td>\n",
       "    </tr>\n",
       "    <tr>\n",
       "      <th>1</th>\n",
       "      <td>22.625607</td>\n",
       "      <td>113.855589</td>\n",
       "      <td>12-17</td>\n",
       "      <td>12</td>\n",
       "      <td>17</td>\n",
       "    </tr>\n",
       "    <tr>\n",
       "      <th>2</th>\n",
       "      <td>22.637016</td>\n",
       "      <td>113.866234</td>\n",
       "      <td>12-17</td>\n",
       "      <td>12</td>\n",
       "      <td>17</td>\n",
       "    </tr>\n",
       "    <tr>\n",
       "      <th>3</th>\n",
       "      <td>22.651593</td>\n",
       "      <td>113.876194</td>\n",
       "      <td>13-17</td>\n",
       "      <td>13</td>\n",
       "      <td>17</td>\n",
       "    </tr>\n",
       "    <tr>\n",
       "      <th>4</th>\n",
       "      <td>22.656343</td>\n",
       "      <td>113.894053</td>\n",
       "      <td>13-17</td>\n",
       "      <td>13</td>\n",
       "      <td>17</td>\n",
       "    </tr>\n",
       "  </tbody>\n",
       "</table>\n",
       "</div>"
      ],
      "text/plain": [
       "    latitude   longitude   cell  row  column\n",
       "0  22.614515  113.834647  12-16   12      16\n",
       "1  22.625607  113.855589  12-17   12      17\n",
       "2  22.637016  113.866234  12-17   12      17\n",
       "3  22.651593  113.876194  13-17   13      17\n",
       "4  22.656343  113.894053  13-17   13      17"
      ]
     },
     "execution_count": 31,
     "metadata": {},
     "output_type": "execute_result"
    }
   ],
   "source": [
    "middle_df2 = map_gps_to_cell(middle_df2)\n",
    "middle_df2.head()"
   ]
  },
  {
   "cell_type": "code",
   "execution_count": 32,
   "metadata": {},
   "outputs": [],
   "source": [
    "middle_df2.to_csv('middleGoogleMapRoute2.csv', encoding='utf-8', index=False)"
   ]
  },
  {
   "cell_type": "code",
   "execution_count": null,
   "metadata": {},
   "outputs": [],
   "source": []
  }
 ],
 "metadata": {
  "kernelspec": {
   "display_name": "Python 3",
   "language": "python",
   "name": "python3"
  },
  "language_info": {
   "codemirror_mode": {
    "name": "ipython",
    "version": 3
   },
   "file_extension": ".py",
   "mimetype": "text/x-python",
   "name": "python",
   "nbconvert_exporter": "python",
   "pygments_lexer": "ipython3",
   "version": "3.6.4"
  }
 },
 "nbformat": 4,
 "nbformat_minor": 2
}
