{
 "cells": [
  {
   "cell_type": "code",
   "execution_count": 29,
   "metadata": {},
   "outputs": [],
   "source": [
    "import pandas as pd\n",
    "import os\n",
    "\n",
    "\n",
    "def load_csv_as_df(file_name, sub_directories, column_numbers=None, column_names=None):\n",
    "    '''\n",
    "    Load any csv as a pandas dataframe. Provide the filename, the subdirectories, and columns to read(if desired).\n",
    "    '''\n",
    "    base_path = os.getcwd()\n",
    "    full_path = base_path + sub_directories + file_name\n",
    "\n",
    "    if column_numbers is not None:\n",
    "        df = pd.read_csv(full_path, usecols=column_numbers)\n",
    "    else:\n",
    "        df = pd.read_csv(full_path)\n",
    "\n",
    "    if column_names is not None:\n",
    "        df.columns = column_names\n",
    "\n",
    "    return df\n",
    "\n",
    "\n",
    "def lookup(s):\n",
    "    \"\"\"\n",
    "    This is an extremely fast approach to datetime parsing.\n",
    "    For large data, the same dates are often repeated. Rather than\n",
    "    re-parse these, we store all unique dates, parse them, and\n",
    "    use a lookup to convert all dates.\n",
    "    \"\"\"\n",
    "    dates = {date: pd.to_datetime(date) for date in s.unique()}\n",
    "    return s.map(dates)\n",
    "\n",
    "\n",
    "def label_trajectories(df, trajectory_number):\n",
    "    df['time'] = lookup(df['time'])  # add time for sorting\n",
    "    updated_dfs = []\n",
    "    taxi_ids = df['taxi_id'].unique()\n",
    "    print('There are ', len(taxi_ids), ' unique taxi ids in this data')\n",
    "\n",
    "    empty_route = -1\n",
    "    completed_count = 0\n",
    "\n",
    "    for taxi_id in taxi_ids:\n",
    "        # get the df for that taxi\n",
    "        taxi_df = df.loc[df['taxi_id'] == taxi_id]\n",
    "        taxi_df.sort_values(by=['time'], inplace=True)\n",
    "        passenger_got_in = False\n",
    "\n",
    "        route_numbers = []\n",
    "        route_starts = []\n",
    "        route_ends = []\n",
    "        relevant_starts = []\n",
    "        relevant_ends = []\n",
    "\n",
    "        airport_starts = []\n",
    "        airport_ends = []\n",
    "        train_starts = []\n",
    "        train_ends = []\n",
    "\n",
    "        for index, row in taxi_df.iterrows():\n",
    "            passenger_in_taxi = row['occupancy_status']\n",
    "\n",
    "            # Do we already have a passenger?\n",
    "            if passenger_got_in:\n",
    "                if passenger_in_taxi:\n",
    "                    # trajectory still going\n",
    "                    route_starts.append(False)\n",
    "                    route_ends.append(False)\n",
    "                    relevant_ends.append(False)\n",
    "                    relevant_starts.append(False)\n",
    "                    train_starts.append(False)\n",
    "                    airport_starts.append(False)\n",
    "                    train_ends.append(False)\n",
    "                    airport_ends.append(False)\n",
    "                    route_numbers.append(trajectory_number)\n",
    "                    continue\n",
    "                elif not passenger_in_taxi:\n",
    "                    # trajectory ended\n",
    "                    passenger_got_in = False\n",
    "                    route_starts.append(False)\n",
    "                    route_ends.append(True)\n",
    "                    route_numbers.append(trajectory_number)\n",
    "                    trajectory_number += 1\n",
    "\n",
    "                    # Is this relevant?\n",
    "                    end_lat = row['latitude']\n",
    "                    end_long = row['longitude']\n",
    "\n",
    "                    if near_airport(end_lat, end_long) or near_train_station(end_lat, end_long):\n",
    "                        relevant_ends.append(True)\n",
    "\n",
    "                        if near_airport(end_lat, end_long):\n",
    "                            airport_ends.append(True)\n",
    "                            train_ends.append(False)\n",
    "                        else:\n",
    "                            airport_ends.append(False)\n",
    "                            train_ends.append(True)\n",
    "\n",
    "                    else:\n",
    "                        relevant_ends.append(False)\n",
    "                        airport_ends.append(False)\n",
    "                        train_ends.append(False)\n",
    "\n",
    "                    relevant_starts.append(False)\n",
    "                    airport_starts.append(False)\n",
    "                    train_starts.append(False)\n",
    "\n",
    "            elif passenger_in_taxi:\n",
    "                # someone just got in\n",
    "                passenger_got_in = True\n",
    "                route_starts.append(True)\n",
    "                route_ends.append(False)\n",
    "                route_numbers.append(trajectory_number)\n",
    "                # is this relevant?\n",
    "\n",
    "                start_lat = row['latitude']\n",
    "                start_long = row['longitude']\n",
    "\n",
    "                if near_airport(start_lat, start_long) or near_train_station(start_lat, start_long):\n",
    "                    relevant_starts.append(True)\n",
    "\n",
    "                    if near_airport(start_lat, start_long):\n",
    "                        airport_starts.append(True)\n",
    "                        train_starts.append(False)\n",
    "                    else:\n",
    "                        train_starts.append(True)\n",
    "                        airport_starts.append(False)\n",
    "\n",
    "                else:\n",
    "                    relevant_starts.append(False)\n",
    "                    airport_starts.append(False)\n",
    "                    train_starts.append(False)\n",
    "\n",
    "                relevant_ends.append(False)\n",
    "                airport_ends.append(False)\n",
    "                train_ends.append(False)\n",
    "\n",
    "            else:\n",
    "                # driving around without no passenger\n",
    "                route_starts.append(False)\n",
    "                route_ends.append(False)\n",
    "                relevant_ends.append(False)\n",
    "                relevant_starts.append(False)\n",
    "                train_starts.append(False)\n",
    "                airport_starts.append(False)\n",
    "                train_ends.append(False)\n",
    "                airport_ends.append(False)\n",
    "                route_numbers.append(empty_route)\n",
    "\n",
    "        taxi_df['route_number'] = route_numbers\n",
    "        taxi_df['route_start'] = route_starts\n",
    "        taxi_df['route_end'] = route_ends\n",
    "        taxi_df['relevant_start'] = relevant_starts\n",
    "        taxi_df['relevant_end'] = relevant_ends\n",
    "        taxi_df['airport_start'] = airport_starts\n",
    "        taxi_df['airport_end'] = airport_ends\n",
    "        taxi_df['train_start'] = train_starts\n",
    "        taxi_df['train_end'] = train_ends\n",
    "\n",
    "        taxi_df = taxi_df[taxi_df.route_number != -1]\n",
    "        updated_dfs.append(taxi_df)\n",
    "        completed_count += 1\n",
    "\n",
    "        if completed_count % 100 == 0:\n",
    "            print('Completed ', completed_count, ' taxi_ids out of ', len(taxi_ids))\n",
    "\n",
    "    return pd.concat(updated_dfs), trajectory_number\n",
    "\n",
    "\n",
    "def find_trajectories_at_airport_or_bus(df):\n",
    "    # Test this method!\n",
    "    air_to_bus_df = df[(df['airport_start'] == True) & (df['train_end'] == True)]\n",
    "    bus_to_air_df = df[(df['train_start'] == True) & (df['airport_end'] == True)]\n",
    "\n",
    "    relevant_air_to_bus_numbers = air_to_bus_df.route_number.unique()\n",
    "    relevant_bus_to_air_numbers = bus_to_air_df.route_number.unique()\n",
    "\n",
    "    route_numbers = relevant_air_to_bus_numbers + relevant_bus_to_air_numbers\n",
    "\n",
    "    print('Found ', len(route_numbers), ' relevant routes!')\n",
    "\n",
    "    return df[df['route_number'].isin(route_numbers)]\n",
    "\n",
    "\n",
    "def near_airport(lat, long):\n",
    "    if 22.605770 <= lat <= 22.667089 and 113.784647 <= long <= 113.837340:\n",
    "        return True\n",
    "    else:\n",
    "        return False\n",
    "\n",
    "\n",
    "def near_bus_station(lat, long):\n",
    "    if 22.567210 <= lat <= 22.568807 and 114.089676 <= long <= 114.091320:\n",
    "        return True\n",
    "    else:\n",
    "        return False\n",
    "\n",
    "\n",
    "def near_train_station(lat, long):\n",
    "    if 22.604998 <= lat <= 22.614221 and 114.021111 <= long <= 114.034778:\n",
    "        return True\n",
    "    else:\n",
    "        return False\n",
    "\n",
    "\n",
    "def load_data_and_find_relevant_routes(file_name, sub_directories, trajectory_number):\n",
    "    col_numbers = [3, 4, 5, 6, 7, 8, 12]\n",
    "    col_names = ['longitude', 'latitude', 'time', 'taxi_id', 'speed', 'direction', 'occupancy_status']\n",
    "\n",
    "    df = load_csv_as_df(file_name, sub_directories, col_numbers, col_names)\n",
    "    df, new_trajectory_number = label_trajectories(df, trajectory_number)\n",
    "\n",
    "    relevant_df = find_trajectories_at_airport_or_bus(df)\n",
    "    csv_file_name = file_name + '.csv'\n",
    "\n",
    "    relevant_df.to_csv(csv_file_name, encoding='utf-8')\n",
    "\n",
    "    with open('RouteNumbers.txt', 'w') as f:\n",
    "        f.write('%d' % new_trajectory_number)\n",
    "\n",
    "    print('Found ', len(relevant_df), ' relevant routes in ', file_name)\n",
    "\n",
    "    return relevant_df, new_trajectory_number\n",
    "\n",
    "\n",
    "def load_all_data_from(folder_name, number_of_files):\n",
    "    trajectory_number = 1\n",
    "    base_file_name = 'part-m-'\n",
    "    relevant_dfs = []\n",
    "\n",
    "    for i in range(50, number_of_files):\n",
    "\n",
    "        if i < 10:\n",
    "            file_number = '0000' + str(i)\n",
    "        else:\n",
    "            file_number = '000' + str(i)\n",
    "\n",
    "        file_name = base_file_name + file_number\n",
    "        df, new_trajectory_number = load_data_and_find_relevant_routes(file_name, folder_name, trajectory_number)\n",
    "\n",
    "        relevant_dfs.append(df)\n",
    "        trajectory_number = new_trajectory_number\n",
    "\n",
    "        print('new_trajectory_number: ', new_trajectory_number)\n",
    "\n",
    "    return relevant_dfs"
   ]
  },
  {
   "cell_type": "code",
   "execution_count": 30,
   "metadata": {},
   "outputs": [
    {
     "name": "stdout",
     "output_type": "stream",
     "text": [
      "CPU times: user 266 ms, sys: 71.7 ms, total: 338 ms\n",
      "Wall time: 348 ms\n"
     ]
    }
   ],
   "source": [
    "%%time\n",
    "col_numbers = [3, 4, 5, 6, 7, 8, 12]\n",
    "col_names = ['longitude', 'latitude', 'time', 'taxi_id', 'speed', 'direction', 'occupancy_status']\n",
    "df = load_csv_as_df('part-m-00035', '/2014-04-06/', col_numbers, col_names)"
   ]
  },
  {
   "cell_type": "code",
   "execution_count": 31,
   "metadata": {},
   "outputs": [
    {
     "name": "stdout",
     "output_type": "stream",
     "text": [
      "There are  639  unique taxi ids in this data\n"
     ]
    },
    {
     "name": "stderr",
     "output_type": "stream",
     "text": [
      "/Library/Frameworks/Python.framework/Versions/3.6/lib/python3.6/site-packages/ipykernel_launcher.py:46: SettingWithCopyWarning: \n",
      "A value is trying to be set on a copy of a slice from a DataFrame\n",
      "\n",
      "See the caveats in the documentation: http://pandas.pydata.org/pandas-docs/stable/indexing.html#indexing-view-versus-copy\n",
      "/Library/Frameworks/Python.framework/Versions/3.6/lib/python3.6/site-packages/ipykernel_launcher.py:150: SettingWithCopyWarning: \n",
      "A value is trying to be set on a copy of a slice from a DataFrame.\n",
      "Try using .loc[row_indexer,col_indexer] = value instead\n",
      "\n",
      "See the caveats in the documentation: http://pandas.pydata.org/pandas-docs/stable/indexing.html#indexing-view-versus-copy\n",
      "/Library/Frameworks/Python.framework/Versions/3.6/lib/python3.6/site-packages/ipykernel_launcher.py:151: SettingWithCopyWarning: \n",
      "A value is trying to be set on a copy of a slice from a DataFrame.\n",
      "Try using .loc[row_indexer,col_indexer] = value instead\n",
      "\n",
      "See the caveats in the documentation: http://pandas.pydata.org/pandas-docs/stable/indexing.html#indexing-view-versus-copy\n",
      "/Library/Frameworks/Python.framework/Versions/3.6/lib/python3.6/site-packages/ipykernel_launcher.py:152: SettingWithCopyWarning: \n",
      "A value is trying to be set on a copy of a slice from a DataFrame.\n",
      "Try using .loc[row_indexer,col_indexer] = value instead\n",
      "\n",
      "See the caveats in the documentation: http://pandas.pydata.org/pandas-docs/stable/indexing.html#indexing-view-versus-copy\n",
      "/Library/Frameworks/Python.framework/Versions/3.6/lib/python3.6/site-packages/ipykernel_launcher.py:153: SettingWithCopyWarning: \n",
      "A value is trying to be set on a copy of a slice from a DataFrame.\n",
      "Try using .loc[row_indexer,col_indexer] = value instead\n",
      "\n",
      "See the caveats in the documentation: http://pandas.pydata.org/pandas-docs/stable/indexing.html#indexing-view-versus-copy\n",
      "/Library/Frameworks/Python.framework/Versions/3.6/lib/python3.6/site-packages/ipykernel_launcher.py:154: SettingWithCopyWarning: \n",
      "A value is trying to be set on a copy of a slice from a DataFrame.\n",
      "Try using .loc[row_indexer,col_indexer] = value instead\n",
      "\n",
      "See the caveats in the documentation: http://pandas.pydata.org/pandas-docs/stable/indexing.html#indexing-view-versus-copy\n",
      "/Library/Frameworks/Python.framework/Versions/3.6/lib/python3.6/site-packages/ipykernel_launcher.py:155: SettingWithCopyWarning: \n",
      "A value is trying to be set on a copy of a slice from a DataFrame.\n",
      "Try using .loc[row_indexer,col_indexer] = value instead\n",
      "\n",
      "See the caveats in the documentation: http://pandas.pydata.org/pandas-docs/stable/indexing.html#indexing-view-versus-copy\n",
      "/Library/Frameworks/Python.framework/Versions/3.6/lib/python3.6/site-packages/ipykernel_launcher.py:156: SettingWithCopyWarning: \n",
      "A value is trying to be set on a copy of a slice from a DataFrame.\n",
      "Try using .loc[row_indexer,col_indexer] = value instead\n",
      "\n",
      "See the caveats in the documentation: http://pandas.pydata.org/pandas-docs/stable/indexing.html#indexing-view-versus-copy\n",
      "/Library/Frameworks/Python.framework/Versions/3.6/lib/python3.6/site-packages/ipykernel_launcher.py:157: SettingWithCopyWarning: \n",
      "A value is trying to be set on a copy of a slice from a DataFrame.\n",
      "Try using .loc[row_indexer,col_indexer] = value instead\n",
      "\n",
      "See the caveats in the documentation: http://pandas.pydata.org/pandas-docs/stable/indexing.html#indexing-view-versus-copy\n",
      "/Library/Frameworks/Python.framework/Versions/3.6/lib/python3.6/site-packages/ipykernel_launcher.py:158: SettingWithCopyWarning: \n",
      "A value is trying to be set on a copy of a slice from a DataFrame.\n",
      "Try using .loc[row_indexer,col_indexer] = value instead\n",
      "\n",
      "See the caveats in the documentation: http://pandas.pydata.org/pandas-docs/stable/indexing.html#indexing-view-versus-copy\n"
     ]
    },
    {
     "name": "stdout",
     "output_type": "stream",
     "text": [
      "Completed  100  taxi_ids out of  639\n",
      "Completed  200  taxi_ids out of  639\n",
      "Completed  300  taxi_ids out of  639\n",
      "Completed  400  taxi_ids out of  639\n",
      "Completed  500  taxi_ids out of  639\n",
      "Completed  600  taxi_ids out of  639\n",
      "CPU times: user 3min 21s, sys: 1.25 s, total: 3min 22s\n",
      "Wall time: 3min 25s\n"
     ]
    }
   ],
   "source": [
    "%%time\n",
    "df, trajectory_count = label_trajectories(df, 1)"
   ]
  },
  {
   "cell_type": "code",
   "execution_count": 32,
   "metadata": {},
   "outputs": [
    {
     "name": "stdout",
     "output_type": "stream",
     "text": [
      "0\n"
     ]
    }
   ],
   "source": [
    "air_to_train_df = df[(df['airport_start'] == True) & (df['train_end'] == True)]\n",
    "print(len(air_to_train_df))"
   ]
  },
  {
   "cell_type": "code",
   "execution_count": 33,
   "metadata": {},
   "outputs": [
    {
     "name": "stdout",
     "output_type": "stream",
     "text": [
      "0\n"
     ]
    }
   ],
   "source": [
    "train_to_air_df = df[(df['train_start'] == True) & (df['airport_end'] == True)]\n",
    "print(len(train_to_air_df))"
   ]
  },
  {
   "cell_type": "code",
   "execution_count": 34,
   "metadata": {},
   "outputs": [
    {
     "name": "stdout",
     "output_type": "stream",
     "text": [
      "76\n"
     ]
    }
   ],
   "source": [
    "air_start_df = df[df['airport_start'] == True]\n",
    "print(len(air_start_df))"
   ]
  },
  {
   "cell_type": "code",
   "execution_count": 35,
   "metadata": {},
   "outputs": [
    {
     "name": "stdout",
     "output_type": "stream",
     "text": [
      "113\n"
     ]
    }
   ],
   "source": [
    "air_end_df = df[df['airport_end'] == True]\n",
    "print(len(air_end_df))"
   ]
  },
  {
   "cell_type": "code",
   "execution_count": 36,
   "metadata": {},
   "outputs": [
    {
     "name": "stdout",
     "output_type": "stream",
     "text": [
      "42\n"
     ]
    }
   ],
   "source": [
    "train_start_df = df[df['train_start'] == True]\n",
    "print(len(train_start_df))"
   ]
  },
  {
   "cell_type": "code",
   "execution_count": 37,
   "metadata": {},
   "outputs": [
    {
     "name": "stdout",
     "output_type": "stream",
     "text": [
      "60\n"
     ]
    }
   ],
   "source": [
    "train_end_df = df[df['train_end'] == True]\n",
    "print(len(train_end_df))"
   ]
  },
  {
   "cell_type": "code",
   "execution_count": 19,
   "metadata": {},
   "outputs": [
    {
     "name": "stdout",
     "output_type": "stream",
     "text": [
      "There are  2183  unique taxi ids in this data\n"
     ]
    },
    {
     "name": "stderr",
     "output_type": "stream",
     "text": [
      "/Library/Frameworks/Python.framework/Versions/3.6/lib/python3.6/site-packages/ipykernel_launcher.py:46: SettingWithCopyWarning: \n",
      "A value is trying to be set on a copy of a slice from a DataFrame\n",
      "\n",
      "See the caveats in the documentation: http://pandas.pydata.org/pandas-docs/stable/indexing.html#indexing-view-versus-copy\n",
      "/Library/Frameworks/Python.framework/Versions/3.6/lib/python3.6/site-packages/ipykernel_launcher.py:150: SettingWithCopyWarning: \n",
      "A value is trying to be set on a copy of a slice from a DataFrame.\n",
      "Try using .loc[row_indexer,col_indexer] = value instead\n",
      "\n",
      "See the caveats in the documentation: http://pandas.pydata.org/pandas-docs/stable/indexing.html#indexing-view-versus-copy\n",
      "/Library/Frameworks/Python.framework/Versions/3.6/lib/python3.6/site-packages/ipykernel_launcher.py:151: SettingWithCopyWarning: \n",
      "A value is trying to be set on a copy of a slice from a DataFrame.\n",
      "Try using .loc[row_indexer,col_indexer] = value instead\n",
      "\n",
      "See the caveats in the documentation: http://pandas.pydata.org/pandas-docs/stable/indexing.html#indexing-view-versus-copy\n",
      "/Library/Frameworks/Python.framework/Versions/3.6/lib/python3.6/site-packages/ipykernel_launcher.py:152: SettingWithCopyWarning: \n",
      "A value is trying to be set on a copy of a slice from a DataFrame.\n",
      "Try using .loc[row_indexer,col_indexer] = value instead\n",
      "\n",
      "See the caveats in the documentation: http://pandas.pydata.org/pandas-docs/stable/indexing.html#indexing-view-versus-copy\n",
      "/Library/Frameworks/Python.framework/Versions/3.6/lib/python3.6/site-packages/ipykernel_launcher.py:153: SettingWithCopyWarning: \n",
      "A value is trying to be set on a copy of a slice from a DataFrame.\n",
      "Try using .loc[row_indexer,col_indexer] = value instead\n",
      "\n",
      "See the caveats in the documentation: http://pandas.pydata.org/pandas-docs/stable/indexing.html#indexing-view-versus-copy\n",
      "/Library/Frameworks/Python.framework/Versions/3.6/lib/python3.6/site-packages/ipykernel_launcher.py:154: SettingWithCopyWarning: \n",
      "A value is trying to be set on a copy of a slice from a DataFrame.\n",
      "Try using .loc[row_indexer,col_indexer] = value instead\n",
      "\n",
      "See the caveats in the documentation: http://pandas.pydata.org/pandas-docs/stable/indexing.html#indexing-view-versus-copy\n",
      "/Library/Frameworks/Python.framework/Versions/3.6/lib/python3.6/site-packages/ipykernel_launcher.py:155: SettingWithCopyWarning: \n",
      "A value is trying to be set on a copy of a slice from a DataFrame.\n",
      "Try using .loc[row_indexer,col_indexer] = value instead\n",
      "\n",
      "See the caveats in the documentation: http://pandas.pydata.org/pandas-docs/stable/indexing.html#indexing-view-versus-copy\n",
      "/Library/Frameworks/Python.framework/Versions/3.6/lib/python3.6/site-packages/ipykernel_launcher.py:156: SettingWithCopyWarning: \n",
      "A value is trying to be set on a copy of a slice from a DataFrame.\n",
      "Try using .loc[row_indexer,col_indexer] = value instead\n",
      "\n",
      "See the caveats in the documentation: http://pandas.pydata.org/pandas-docs/stable/indexing.html#indexing-view-versus-copy\n",
      "/Library/Frameworks/Python.framework/Versions/3.6/lib/python3.6/site-packages/ipykernel_launcher.py:157: SettingWithCopyWarning: \n",
      "A value is trying to be set on a copy of a slice from a DataFrame.\n",
      "Try using .loc[row_indexer,col_indexer] = value instead\n",
      "\n",
      "See the caveats in the documentation: http://pandas.pydata.org/pandas-docs/stable/indexing.html#indexing-view-versus-copy\n",
      "/Library/Frameworks/Python.framework/Versions/3.6/lib/python3.6/site-packages/ipykernel_launcher.py:158: SettingWithCopyWarning: \n",
      "A value is trying to be set on a copy of a slice from a DataFrame.\n",
      "Try using .loc[row_indexer,col_indexer] = value instead\n",
      "\n",
      "See the caveats in the documentation: http://pandas.pydata.org/pandas-docs/stable/indexing.html#indexing-view-versus-copy\n"
     ]
    },
    {
     "name": "stdout",
     "output_type": "stream",
     "text": [
      "Completed  100  taxi_ids out of  2183\n",
      "Completed  200  taxi_ids out of  2183\n",
      "Completed  300  taxi_ids out of  2183\n",
      "Completed  400  taxi_ids out of  2183\n",
      "Completed  500  taxi_ids out of  2183\n",
      "Completed  600  taxi_ids out of  2183\n",
      "Completed  700  taxi_ids out of  2183\n",
      "Completed  800  taxi_ids out of  2183\n",
      "Completed  900  taxi_ids out of  2183\n",
      "Completed  1000  taxi_ids out of  2183\n",
      "Completed  1100  taxi_ids out of  2183\n",
      "Completed  1200  taxi_ids out of  2183\n",
      "Completed  1300  taxi_ids out of  2183\n",
      "Completed  1400  taxi_ids out of  2183\n",
      "Completed  1500  taxi_ids out of  2183\n",
      "Completed  1600  taxi_ids out of  2183\n",
      "Completed  1700  taxi_ids out of  2183\n",
      "Completed  1800  taxi_ids out of  2183\n",
      "Completed  1900  taxi_ids out of  2183\n",
      "Completed  2000  taxi_ids out of  2183\n",
      "Completed  2100  taxi_ids out of  2183\n",
      "Found  0  relevant routes!\n",
      "Found  0  relevant routes in  part-m-00050\n",
      "new_trajectory_number:  32028\n",
      "There are  637  unique taxi ids in this data\n",
      "Completed  100  taxi_ids out of  637\n",
      "Completed  200  taxi_ids out of  637\n",
      "Completed  300  taxi_ids out of  637\n",
      "Completed  400  taxi_ids out of  637\n",
      "Completed  500  taxi_ids out of  637\n",
      "Completed  600  taxi_ids out of  637\n",
      "Found  0  relevant routes!\n",
      "Found  0  relevant routes in  part-m-00051\n",
      "new_trajectory_number:  41885\n"
     ]
    }
   ],
   "source": [
    "all_relevant_df = load_all_data_from('/2014-04-06/', 52)"
   ]
  },
  {
   "cell_type": "code",
   "execution_count": 20,
   "metadata": {},
   "outputs": [
    {
     "name": "stdout",
     "output_type": "stream",
     "text": [
      "2\n"
     ]
    }
   ],
   "source": [
    "print(len(all_relevant_df))"
   ]
  },
  {
   "cell_type": "code",
   "execution_count": 23,
   "metadata": {},
   "outputs": [
    {
     "name": "stdout",
     "output_type": "stream",
     "text": [
      "Empty DataFrame\n",
      "Columns: [longitude, latitude, time, taxi_id, speed, direction, occupancy_status, route_number, route_start, route_end, relevant_start, relevant_end, airport_start, airport_end, train_start, train_end]\n",
      "Index: []\n"
     ]
    }
   ],
   "source": [
    "print(all_relevant_df[0].head())"
   ]
  },
  {
   "cell_type": "code",
   "execution_count": 24,
   "metadata": {},
   "outputs": [],
   "source": [
    "near_train_df = df[(df['longitude'] >= 114.021111) & (df['longitude'] <= 114.034778)]"
   ]
  },
  {
   "cell_type": "code",
   "execution_count": 25,
   "metadata": {},
   "outputs": [
    {
     "name": "stdout",
     "output_type": "stream",
     "text": [
      "4325\n"
     ]
    }
   ],
   "source": [
    "print(len(near_train_df))"
   ]
  },
  {
   "cell_type": "code",
   "execution_count": 26,
   "metadata": {},
   "outputs": [],
   "source": [
    "train_df = near_train_df[(near_train_df['latitude'] >= 22.6049981) & (near_train_df['latitude'] <= 22.614221)]\n"
   ]
  },
  {
   "cell_type": "code",
   "execution_count": 27,
   "metadata": {},
   "outputs": [
    {
     "name": "stdout",
     "output_type": "stream",
     "text": [
      "255\n"
     ]
    }
   ],
   "source": [
    "print(len(train_df))"
   ]
  },
  {
   "cell_type": "code",
   "execution_count": 28,
   "metadata": {},
   "outputs": [
    {
     "data": {
      "text/html": [
       "<div>\n",
       "<style scoped>\n",
       "    .dataframe tbody tr th:only-of-type {\n",
       "        vertical-align: middle;\n",
       "    }\n",
       "\n",
       "    .dataframe tbody tr th {\n",
       "        vertical-align: top;\n",
       "    }\n",
       "\n",
       "    .dataframe thead th {\n",
       "        text-align: right;\n",
       "    }\n",
       "</style>\n",
       "<table border=\"1\" class=\"dataframe\">\n",
       "  <thead>\n",
       "    <tr style=\"text-align: right;\">\n",
       "      <th></th>\n",
       "      <th>longitude</th>\n",
       "      <th>latitude</th>\n",
       "      <th>time</th>\n",
       "      <th>taxi_id</th>\n",
       "      <th>speed</th>\n",
       "      <th>direction</th>\n",
       "      <th>occupancy_status</th>\n",
       "      <th>route_number</th>\n",
       "      <th>route_start</th>\n",
       "      <th>route_end</th>\n",
       "      <th>relevant_start</th>\n",
       "      <th>relevant_end</th>\n",
       "      <th>airport_start</th>\n",
       "      <th>airport_end</th>\n",
       "      <th>train_start</th>\n",
       "      <th>train_end</th>\n",
       "    </tr>\n",
       "  </thead>\n",
       "  <tbody>\n",
       "    <tr>\n",
       "      <th>772</th>\n",
       "      <td>114.027298</td>\n",
       "      <td>22.610100</td>\n",
       "      <td>2014-04-06 22:27:16</td>\n",
       "      <td>1292528</td>\n",
       "      <td>50</td>\n",
       "      <td>0</td>\n",
       "      <td>1</td>\n",
       "      <td>127</td>\n",
       "      <td>True</td>\n",
       "      <td>False</td>\n",
       "      <td>True</td>\n",
       "      <td>False</td>\n",
       "      <td>False</td>\n",
       "      <td>False</td>\n",
       "      <td>True</td>\n",
       "      <td>False</td>\n",
       "    </tr>\n",
       "    <tr>\n",
       "      <th>774</th>\n",
       "      <td>114.028801</td>\n",
       "      <td>22.606800</td>\n",
       "      <td>2014-04-06 22:27:46</td>\n",
       "      <td>1292528</td>\n",
       "      <td>46</td>\n",
       "      <td>0</td>\n",
       "      <td>1</td>\n",
       "      <td>127</td>\n",
       "      <td>False</td>\n",
       "      <td>False</td>\n",
       "      <td>False</td>\n",
       "      <td>False</td>\n",
       "      <td>False</td>\n",
       "      <td>False</td>\n",
       "      <td>False</td>\n",
       "      <td>False</td>\n",
       "    </tr>\n",
       "    <tr>\n",
       "      <th>858</th>\n",
       "      <td>114.034218</td>\n",
       "      <td>22.606783</td>\n",
       "      <td>2014-04-06 23:58:50</td>\n",
       "      <td>1299893</td>\n",
       "      <td>0</td>\n",
       "      <td>0</td>\n",
       "      <td>0</td>\n",
       "      <td>170</td>\n",
       "      <td>False</td>\n",
       "      <td>True</td>\n",
       "      <td>False</td>\n",
       "      <td>True</td>\n",
       "      <td>False</td>\n",
       "      <td>False</td>\n",
       "      <td>False</td>\n",
       "      <td>True</td>\n",
       "    </tr>\n",
       "    <tr>\n",
       "      <th>1955</th>\n",
       "      <td>114.027397</td>\n",
       "      <td>22.611200</td>\n",
       "      <td>2014-04-06 20:03:08</td>\n",
       "      <td>1292497</td>\n",
       "      <td>57</td>\n",
       "      <td>0</td>\n",
       "      <td>1</td>\n",
       "      <td>289</td>\n",
       "      <td>False</td>\n",
       "      <td>False</td>\n",
       "      <td>False</td>\n",
       "      <td>False</td>\n",
       "      <td>False</td>\n",
       "      <td>False</td>\n",
       "      <td>False</td>\n",
       "      <td>False</td>\n",
       "    </tr>\n",
       "    <tr>\n",
       "      <th>2244</th>\n",
       "      <td>114.029198</td>\n",
       "      <td>22.607401</td>\n",
       "      <td>2014-04-06 12:03:18</td>\n",
       "      <td>1292490</td>\n",
       "      <td>31</td>\n",
       "      <td>0</td>\n",
       "      <td>0</td>\n",
       "      <td>336</td>\n",
       "      <td>False</td>\n",
       "      <td>True</td>\n",
       "      <td>False</td>\n",
       "      <td>True</td>\n",
       "      <td>False</td>\n",
       "      <td>False</td>\n",
       "      <td>False</td>\n",
       "      <td>True</td>\n",
       "    </tr>\n",
       "  </tbody>\n",
       "</table>\n",
       "</div>"
      ],
      "text/plain": [
       "       longitude   latitude                time  taxi_id  speed  direction  \\\n",
       "772   114.027298  22.610100 2014-04-06 22:27:16  1292528     50          0   \n",
       "774   114.028801  22.606800 2014-04-06 22:27:46  1292528     46          0   \n",
       "858   114.034218  22.606783 2014-04-06 23:58:50  1299893      0          0   \n",
       "1955  114.027397  22.611200 2014-04-06 20:03:08  1292497     57          0   \n",
       "2244  114.029198  22.607401 2014-04-06 12:03:18  1292490     31          0   \n",
       "\n",
       "      occupancy_status  route_number  route_start  route_end  relevant_start  \\\n",
       "772                  1           127         True      False            True   \n",
       "774                  1           127        False      False           False   \n",
       "858                  0           170        False       True           False   \n",
       "1955                 1           289        False      False           False   \n",
       "2244                 0           336        False       True           False   \n",
       "\n",
       "      relevant_end  airport_start  airport_end  train_start  train_end  \n",
       "772          False          False        False         True      False  \n",
       "774          False          False        False        False      False  \n",
       "858           True          False        False        False       True  \n",
       "1955         False          False        False        False      False  \n",
       "2244          True          False        False        False       True  "
      ]
     },
     "execution_count": 28,
     "metadata": {},
     "output_type": "execute_result"
    }
   ],
   "source": [
    "train_df.head()"
   ]
  },
  {
   "cell_type": "code",
   "execution_count": null,
   "metadata": {},
   "outputs": [],
   "source": []
  }
 ],
 "metadata": {
  "kernelspec": {
   "display_name": "Python 3",
   "language": "python",
   "name": "python3"
  },
  "language_info": {
   "codemirror_mode": {
    "name": "ipython",
    "version": 3
   },
   "file_extension": ".py",
   "mimetype": "text/x-python",
   "name": "python",
   "nbconvert_exporter": "python",
   "pygments_lexer": "ipython3",
   "version": "3.6.4"
  }
 },
 "nbformat": 4,
 "nbformat_minor": 2
}
