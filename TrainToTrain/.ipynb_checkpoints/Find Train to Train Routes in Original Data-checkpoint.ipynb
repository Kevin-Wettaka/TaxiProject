{
 "cells": [
  {
   "cell_type": "code",
   "execution_count": 4,
   "metadata": {},
   "outputs": [],
   "source": [
    "import os\n",
    "import pandas as pd"
   ]
  },
  {
   "cell_type": "code",
   "execution_count": 5,
   "metadata": {},
   "outputs": [],
   "source": [
    "def load_csv_as_df(file_name, sub_directories, column_numbers=None, column_names=None):\n",
    "    '''\n",
    "    Load any csv as a pandas dataframe. Provide the filename, the subdirectories, and columns to read(if desired).\n",
    "    '''\n",
    "    base_path = os.getcwd()\n",
    "    full_path = base_path + sub_directories + file_name\n",
    "\n",
    "    if column_numbers is not None:\n",
    "        df = pd.read_csv(full_path, usecols=column_numbers)\n",
    "    else:\n",
    "        df = pd.read_csv(full_path)\n",
    "\n",
    "    if column_names is not None:\n",
    "        df.columns = column_names\n",
    "\n",
    "    return df"
   ]
  },
  {
   "cell_type": "code",
   "execution_count": 6,
   "metadata": {},
   "outputs": [],
   "source": [
    "def load_data(file_name, sub_directories, with_routes=False):\n",
    "    if not with_routes:\n",
    "        col_names = ['taxi_id', 'time', 'longitude', 'latitude',  'occupancy_status', 'speed']\n",
    "    else:\n",
    "        col_names += ['route_number', 'route_start', 'route_end']\n",
    "\n",
    "    df = load_csv_as_df(file_name, sub_directories, None, col_names)\n",
    "\n",
    "    return df"
   ]
  },
  {
   "cell_type": "code",
   "execution_count": 7,
   "metadata": {},
   "outputs": [],
   "source": [
    "df = load_data('TaxiData.csv', '/')"
   ]
  },
  {
   "cell_type": "code",
   "execution_count": 8,
   "metadata": {},
   "outputs": [],
   "source": [
    "def filter_data_by_gps(df, min_lat, max_lat, min_long, max_long, with_pass=False):\n",
    "    \"\"\"\n",
    "    :param df: data-frame with latitude and longitude columns\n",
    "    :param min_lat: minimum latitude value\n",
    "    :param max_lat: max latitude value\n",
    "    :param min_long: min longitude\n",
    "    :param max_long: max longitude\n",
    "    :param with_pass: required to have a passenger (occupancy_status column)\n",
    "    :return: data-frame\n",
    "    \"\"\"\n",
    "\n",
    "    all_taxi_ids = df['taxi_id'].unique()\n",
    "    print('There are ', len(all_taxi_ids), ' taxi ids in this dataset!')\n",
    "\n",
    "    near_lat = df[(df['latitude'] >= min_lat) & (df['latitude'] <= max_lat)] # 0.0203\n",
    "    print('There are ', len(near_lat), ' GPS readings in your latitude range!')\n",
    "\n",
    "    near_lat_and_long = near_lat[(near_lat['longitude'] >= min_long) & (near_lat['longitude'] <= max_long)] #0.022334\n",
    "\n",
    "    print('There are ', len(near_lat_and_long), ' GPS readings in your latitude and longitude range!')\n",
    "    taxi_ids = near_lat_and_long['taxi_id'].unique()\n",
    "    print('There are ', len(taxi_ids), ' taxi ids near the airport!')\n",
    "\n",
    "    if with_pass:\n",
    "        with_pass = near_lat_and_long[near_lat_and_long['occupancy_status'] == 1]\n",
    "        print('There are ', len(with_pass), ' GPS readings in your latitude and longitude range with a passenger!')\n",
    "        with_pass_ids = with_pass['taxi_id'].unique()\n",
    "        print('There are ', len(with_pass_ids), ' taxi ids in your latitude and longitude range with a passenger!')\n",
    "        return with_pass\n",
    "    else:\n",
    "        return near_lat_and_long"
   ]
  },
  {
   "cell_type": "code",
   "execution_count": 9,
   "metadata": {},
   "outputs": [
    {
     "name": "stdout",
     "output_type": "stream",
     "text": [
      "There are  14728  taxi ids in this dataset!\n",
      "There are  20527691  GPS readings in your latitude range!\n",
      "There are  5259769  GPS readings in your latitude and longitude range!\n",
      "There are  10126  taxi ids near the airport!\n",
      "There are  2840110  GPS readings in your latitude and longitude range with a passenger!\n",
      "There are  7998  taxi ids in your latitude and longitude range with a passenger!\n"
     ]
    }
   ],
   "source": [
    "# Shenzhen Train station west GPS 22.5316, 113.903 !@#$%^&* WRONG!\n",
    "\n",
    "# Correct GPS = 22.534578, 114.110521\n",
    "\n",
    "train_station_west_gps = (22.534578, 114.110521)\n",
    "lat_diff = 0.025\n",
    "long_diff = 0.025\n",
    "\n",
    "near_west_train_df = filter_data_by_gps(df,\n",
    "                                        train_station_west_gps[0] - lat_diff,\n",
    "                                        train_station_west_gps[0] + lat_diff,\n",
    "                                        train_station_west_gps[1] - long_diff,\n",
    "                                        train_station_west_gps[1] + long_diff,\n",
    "                                        with_pass=True)"
   ]
  },
  {
   "cell_type": "code",
   "execution_count": 10,
   "metadata": {},
   "outputs": [
    {
     "data": {
      "text/html": [
       "<div>\n",
       "<style scoped>\n",
       "    .dataframe tbody tr th:only-of-type {\n",
       "        vertical-align: middle;\n",
       "    }\n",
       "\n",
       "    .dataframe tbody tr th {\n",
       "        vertical-align: top;\n",
       "    }\n",
       "\n",
       "    .dataframe thead th {\n",
       "        text-align: right;\n",
       "    }\n",
       "</style>\n",
       "<table border=\"1\" class=\"dataframe\">\n",
       "  <thead>\n",
       "    <tr style=\"text-align: right;\">\n",
       "      <th></th>\n",
       "      <th>taxi_id</th>\n",
       "      <th>time</th>\n",
       "      <th>longitude</th>\n",
       "      <th>latitude</th>\n",
       "      <th>occupancy_status</th>\n",
       "      <th>speed</th>\n",
       "    </tr>\n",
       "  </thead>\n",
       "  <tbody>\n",
       "    <tr>\n",
       "      <th>18</th>\n",
       "      <td>22223</td>\n",
       "      <td>13:09:34</td>\n",
       "      <td>114.125999</td>\n",
       "      <td>22.542633</td>\n",
       "      <td>1</td>\n",
       "      <td>39</td>\n",
       "    </tr>\n",
       "    <tr>\n",
       "      <th>25</th>\n",
       "      <td>22223</td>\n",
       "      <td>11:42:11</td>\n",
       "      <td>114.117897</td>\n",
       "      <td>22.552767</td>\n",
       "      <td>1</td>\n",
       "      <td>0</td>\n",
       "    </tr>\n",
       "    <tr>\n",
       "      <th>26</th>\n",
       "      <td>22223</td>\n",
       "      <td>11:45:54</td>\n",
       "      <td>114.117218</td>\n",
       "      <td>22.546766</td>\n",
       "      <td>1</td>\n",
       "      <td>33</td>\n",
       "    </tr>\n",
       "    <tr>\n",
       "      <th>28</th>\n",
       "      <td>22223</td>\n",
       "      <td>12:08:43</td>\n",
       "      <td>114.116837</td>\n",
       "      <td>22.550283</td>\n",
       "      <td>1</td>\n",
       "      <td>21</td>\n",
       "    </tr>\n",
       "    <tr>\n",
       "      <th>33</th>\n",
       "      <td>22223</td>\n",
       "      <td>11:47:24</td>\n",
       "      <td>114.103165</td>\n",
       "      <td>22.544300</td>\n",
       "      <td>1</td>\n",
       "      <td>47</td>\n",
       "    </tr>\n",
       "  </tbody>\n",
       "</table>\n",
       "</div>"
      ],
      "text/plain": [
       "    taxi_id      time   longitude   latitude  occupancy_status  speed\n",
       "18    22223  13:09:34  114.125999  22.542633                 1     39\n",
       "25    22223  11:42:11  114.117897  22.552767                 1      0\n",
       "26    22223  11:45:54  114.117218  22.546766                 1     33\n",
       "28    22223  12:08:43  114.116837  22.550283                 1     21\n",
       "33    22223  11:47:24  114.103165  22.544300                 1     47"
      ]
     },
     "execution_count": 10,
     "metadata": {},
     "output_type": "execute_result"
    }
   ],
   "source": [
    "near_west_train_df.head()"
   ]
  },
  {
   "cell_type": "code",
   "execution_count": 11,
   "metadata": {},
   "outputs": [
    {
     "name": "stdout",
     "output_type": "stream",
     "text": [
      "There are  14728  taxi ids in this dataset!\n",
      "There are  1587117  GPS readings in your latitude range!\n",
      "There are  135172  GPS readings in your latitude and longitude range!\n",
      "There are  6873  taxi ids near the airport!\n",
      "There are  46030  GPS readings in your latitude and longitude range with a passenger!\n",
      "There are  4665  taxi ids in your latitude and longitude range with a passenger!\n"
     ]
    }
   ],
   "source": [
    "# North Train Station in Shenzhen is 22.605502, 114.023724 and 22.613580, 114.034568.\n",
    "train_station_north_gps_min = (22.605502, 114.023724)\n",
    "train_station_north_gps_max = (22.613580, 114.034568)\n",
    "\n",
    "\n",
    "near_north_train_df = filter_data_by_gps(df,\n",
    "                                         train_station_north_gps_min[0],\n",
    "                                         train_station_north_gps_max[0],\n",
    "                                         train_station_north_gps_min[1],\n",
    "                                         train_station_north_gps_max[1],\n",
    "                                         with_pass=True)\n"
   ]
  },
  {
   "cell_type": "code",
   "execution_count": 12,
   "metadata": {},
   "outputs": [
    {
     "data": {
      "text/html": [
       "<div>\n",
       "<style scoped>\n",
       "    .dataframe tbody tr th:only-of-type {\n",
       "        vertical-align: middle;\n",
       "    }\n",
       "\n",
       "    .dataframe tbody tr th {\n",
       "        vertical-align: top;\n",
       "    }\n",
       "\n",
       "    .dataframe thead th {\n",
       "        text-align: right;\n",
       "    }\n",
       "</style>\n",
       "<table border=\"1\" class=\"dataframe\">\n",
       "  <thead>\n",
       "    <tr style=\"text-align: right;\">\n",
       "      <th></th>\n",
       "      <th>taxi_id</th>\n",
       "      <th>time</th>\n",
       "      <th>longitude</th>\n",
       "      <th>latitude</th>\n",
       "      <th>occupancy_status</th>\n",
       "      <th>speed</th>\n",
       "    </tr>\n",
       "  </thead>\n",
       "  <tbody>\n",
       "    <tr>\n",
       "      <th>6958</th>\n",
       "      <td>22225</td>\n",
       "      <td>19:25:31</td>\n",
       "      <td>114.027283</td>\n",
       "      <td>22.610550</td>\n",
       "      <td>1</td>\n",
       "      <td>0</td>\n",
       "    </tr>\n",
       "    <tr>\n",
       "      <th>7056</th>\n",
       "      <td>22225</td>\n",
       "      <td>13:48:46</td>\n",
       "      <td>114.025215</td>\n",
       "      <td>22.610018</td>\n",
       "      <td>1</td>\n",
       "      <td>54</td>\n",
       "    </tr>\n",
       "    <tr>\n",
       "      <th>7136</th>\n",
       "      <td>22225</td>\n",
       "      <td>08:09:13</td>\n",
       "      <td>114.028847</td>\n",
       "      <td>22.613300</td>\n",
       "      <td>1</td>\n",
       "      <td>0</td>\n",
       "    </tr>\n",
       "    <tr>\n",
       "      <th>7215</th>\n",
       "      <td>22225</td>\n",
       "      <td>13:48:52</td>\n",
       "      <td>114.024452</td>\n",
       "      <td>22.609583</td>\n",
       "      <td>1</td>\n",
       "      <td>57</td>\n",
       "    </tr>\n",
       "    <tr>\n",
       "      <th>7216</th>\n",
       "      <td>22225</td>\n",
       "      <td>08:09:21</td>\n",
       "      <td>114.029266</td>\n",
       "      <td>22.612667</td>\n",
       "      <td>1</td>\n",
       "      <td>2</td>\n",
       "    </tr>\n",
       "  </tbody>\n",
       "</table>\n",
       "</div>"
      ],
      "text/plain": [
       "      taxi_id      time   longitude   latitude  occupancy_status  speed\n",
       "6958    22225  19:25:31  114.027283  22.610550                 1      0\n",
       "7056    22225  13:48:46  114.025215  22.610018                 1     54\n",
       "7136    22225  08:09:13  114.028847  22.613300                 1      0\n",
       "7215    22225  13:48:52  114.024452  22.609583                 1     57\n",
       "7216    22225  08:09:21  114.029266  22.612667                 1      2"
      ]
     },
     "execution_count": 12,
     "metadata": {},
     "output_type": "execute_result"
    }
   ],
   "source": [
    "near_north_train_df.head()"
   ]
  },
  {
   "cell_type": "code",
   "execution_count": 13,
   "metadata": {},
   "outputs": [
    {
     "name": "stdout",
     "output_type": "stream",
     "text": [
      "3540\n"
     ]
    }
   ],
   "source": [
    "west_taxi_ids = near_west_train_df['taxi_id'].unique()\n",
    "north_taxi_ids = near_north_train_df['taxi_id'].unique()\n",
    "\n",
    "intersection_taxi_ids = list(set(west_taxi_ids) & set(north_taxi_ids))\n",
    "print(len(intersection_taxi_ids))"
   ]
  },
  {
   "cell_type": "code",
   "execution_count": 14,
   "metadata": {},
   "outputs": [],
   "source": [
    "def get_gps_records_with_taxi_id_in(taxi_id_list, df):\n",
    "    return df[df['taxi_id'].isin(taxi_id_list)]"
   ]
  },
  {
   "cell_type": "code",
   "execution_count": 15,
   "metadata": {},
   "outputs": [
    {
     "name": "stdout",
     "output_type": "stream",
     "text": [
      "13247420\n"
     ]
    }
   ],
   "source": [
    "relevant_gps_records = get_gps_records_with_taxi_id_in(intersection_taxi_ids, df)\n",
    "print(len(relevant_gps_records))"
   ]
  },
  {
   "cell_type": "code",
   "execution_count": 16,
   "metadata": {},
   "outputs": [],
   "source": [
    "def lookup(s):\n",
    "    \"\"\"\n",
    "    This is an extremely fast approach to datetime parsing.\n",
    "    For large data, the same dates are often repeated. Rather than\n",
    "    re-parse these, we store all unique dates, parse them, and\n",
    "    use a lookup to convert all dates.\n",
    "    \"\"\"\n",
    "    dates = {date: pd.to_datetime(date) for date in s.unique()}\n",
    "    return s.map(dates)"
   ]
  },
  {
   "cell_type": "code",
   "execution_count": 17,
   "metadata": {},
   "outputs": [],
   "source": [
    "def label_trajectories(df):\n",
    "    df['time'] = lookup(df['time'])\n",
    "    updated_dfs = []\n",
    "    taxi_ids = df['taxi_id'].unique()\n",
    "    print('There are ', len(taxi_ids), ' in this data')\n",
    "    empty_route = -1\n",
    "    trajectory_number = 1\n",
    "\n",
    "    completed_count = 0\n",
    "\n",
    "    for taxi_id in taxi_ids:\n",
    "        # get the df for that taxis\n",
    "        taxi_df = df.loc[df['taxi_id'] == taxi_id]\n",
    "        taxi_df.sort_values(by=['time'], inplace=True)\n",
    "        passenger_got_in = False\n",
    "        route_numbers = []\n",
    "        route_starts = []\n",
    "        route_ends = []\n",
    "\n",
    "        for index, row in taxi_df.iterrows():\n",
    "            passenger_in_taxi = row['occupancy_status']\n",
    "\n",
    "            # Do we already have a passenger?\n",
    "            if passenger_got_in:\n",
    "                if passenger_in_taxi:\n",
    "                    # trajectory still going\n",
    "                    route_starts.append(False)\n",
    "                    route_ends.append(False)\n",
    "                    route_numbers.append(trajectory_number)\n",
    "                    continue\n",
    "                elif not passenger_in_taxi:\n",
    "                    # trajectory ended\n",
    "                    passenger_got_in = False\n",
    "                    route_starts.append(False)\n",
    "                    route_ends.append(True)\n",
    "                    route_numbers.append(trajectory_number)\n",
    "                    trajectory_number += 1\n",
    "\n",
    "            elif passenger_in_taxi:\n",
    "                passenger_got_in = True\n",
    "                route_starts.append(True)\n",
    "                route_ends.append(False)\n",
    "                route_numbers.append(trajectory_number)\n",
    "\n",
    "            else:\n",
    "                route_starts.append(False)\n",
    "                route_ends.append(False)\n",
    "                route_numbers.append(empty_route)\n",
    "\n",
    "        taxi_df['route_number'] = route_numbers\n",
    "        taxi_df['route_start'] = route_starts\n",
    "        taxi_df['route_end'] = route_ends\n",
    "        updated_dfs.append(taxi_df)\n",
    "        completed_count += 1\n",
    "\n",
    "        if completed_count % 100 == 0:\n",
    "            print('Completed ', completed_count, ' taxi_ids out of ', len(taxi_ids))\n",
    "\n",
    "    return pd.concat(updated_dfs)"
   ]
  },
  {
   "cell_type": "code",
   "execution_count": 18,
   "metadata": {},
   "outputs": [
    {
     "name": "stderr",
     "output_type": "stream",
     "text": [
      "/Library/Frameworks/Python.framework/Versions/3.6/lib/python3.6/site-packages/ipykernel_launcher.py:2: SettingWithCopyWarning: \n",
      "A value is trying to be set on a copy of a slice from a DataFrame.\n",
      "Try using .loc[row_indexer,col_indexer] = value instead\n",
      "\n",
      "See the caveats in the documentation: http://pandas.pydata.org/pandas-docs/stable/indexing.html#indexing-view-versus-copy\n",
      "  \n",
      "/Library/Frameworks/Python.framework/Versions/3.6/lib/python3.6/site-packages/ipykernel_launcher.py:14: SettingWithCopyWarning: \n",
      "A value is trying to be set on a copy of a slice from a DataFrame\n",
      "\n",
      "See the caveats in the documentation: http://pandas.pydata.org/pandas-docs/stable/indexing.html#indexing-view-versus-copy\n",
      "  \n"
     ]
    },
    {
     "name": "stdout",
     "output_type": "stream",
     "text": [
      "There are  3540  in this data\n"
     ]
    },
    {
     "name": "stderr",
     "output_type": "stream",
     "text": [
      "/Library/Frameworks/Python.framework/Versions/3.6/lib/python3.6/site-packages/ipykernel_launcher.py:50: SettingWithCopyWarning: \n",
      "A value is trying to be set on a copy of a slice from a DataFrame.\n",
      "Try using .loc[row_indexer,col_indexer] = value instead\n",
      "\n",
      "See the caveats in the documentation: http://pandas.pydata.org/pandas-docs/stable/indexing.html#indexing-view-versus-copy\n",
      "/Library/Frameworks/Python.framework/Versions/3.6/lib/python3.6/site-packages/ipykernel_launcher.py:51: SettingWithCopyWarning: \n",
      "A value is trying to be set on a copy of a slice from a DataFrame.\n",
      "Try using .loc[row_indexer,col_indexer] = value instead\n",
      "\n",
      "See the caveats in the documentation: http://pandas.pydata.org/pandas-docs/stable/indexing.html#indexing-view-versus-copy\n",
      "/Library/Frameworks/Python.framework/Versions/3.6/lib/python3.6/site-packages/ipykernel_launcher.py:52: SettingWithCopyWarning: \n",
      "A value is trying to be set on a copy of a slice from a DataFrame.\n",
      "Try using .loc[row_indexer,col_indexer] = value instead\n",
      "\n",
      "See the caveats in the documentation: http://pandas.pydata.org/pandas-docs/stable/indexing.html#indexing-view-versus-copy\n"
     ]
    },
    {
     "name": "stdout",
     "output_type": "stream",
     "text": [
      "Completed  100  taxi_ids out of  3540\n",
      "Completed  200  taxi_ids out of  3540\n",
      "Completed  300  taxi_ids out of  3540\n",
      "Completed  400  taxi_ids out of  3540\n",
      "Completed  500  taxi_ids out of  3540\n",
      "Completed  600  taxi_ids out of  3540\n",
      "Completed  700  taxi_ids out of  3540\n",
      "Completed  800  taxi_ids out of  3540\n",
      "Completed  900  taxi_ids out of  3540\n",
      "Completed  1000  taxi_ids out of  3540\n",
      "Completed  1100  taxi_ids out of  3540\n",
      "Completed  1200  taxi_ids out of  3540\n",
      "Completed  1300  taxi_ids out of  3540\n",
      "Completed  1400  taxi_ids out of  3540\n",
      "Completed  1500  taxi_ids out of  3540\n",
      "Completed  1600  taxi_ids out of  3540\n",
      "Completed  1700  taxi_ids out of  3540\n",
      "Completed  1800  taxi_ids out of  3540\n",
      "Completed  1900  taxi_ids out of  3540\n",
      "Completed  2000  taxi_ids out of  3540\n",
      "Completed  2100  taxi_ids out of  3540\n",
      "Completed  2200  taxi_ids out of  3540\n",
      "Completed  2300  taxi_ids out of  3540\n",
      "Completed  2400  taxi_ids out of  3540\n",
      "Completed  2500  taxi_ids out of  3540\n",
      "Completed  2600  taxi_ids out of  3540\n",
      "Completed  2700  taxi_ids out of  3540\n",
      "Completed  2800  taxi_ids out of  3540\n",
      "Completed  2900  taxi_ids out of  3540\n",
      "Completed  3000  taxi_ids out of  3540\n",
      "Completed  3100  taxi_ids out of  3540\n",
      "Completed  3200  taxi_ids out of  3540\n",
      "Completed  3300  taxi_ids out of  3540\n",
      "Completed  3400  taxi_ids out of  3540\n",
      "Completed  3500  taxi_ids out of  3540\n",
      "CPU times: user 29min 54s, sys: 24.9 s, total: 30min 19s\n",
      "Wall time: 32min 17s\n"
     ]
    }
   ],
   "source": [
    "%%time\n",
    "labeled_relevant_gps_records_df = label_trajectories(relevant_gps_records)"
   ]
  },
  {
   "cell_type": "code",
   "execution_count": 19,
   "metadata": {},
   "outputs": [],
   "source": [
    "labeled_relevant_gps_records_df.to_csv('original-labeled-train-train-routes.csv', encoding='utf-8', index=False)"
   ]
  },
  {
   "cell_type": "code",
   "execution_count": 20,
   "metadata": {},
   "outputs": [],
   "source": [
    "labeled = labeled_relevant_gps_records_df"
   ]
  },
  {
   "cell_type": "code",
   "execution_count": 21,
   "metadata": {},
   "outputs": [
    {
     "name": "stderr",
     "output_type": "stream",
     "text": [
      "/Library/Frameworks/Python.framework/Versions/3.6/lib/python3.6/site-packages/ipykernel_launcher.py:2: SettingWithCopyWarning: \n",
      "A value is trying to be set on a copy of a slice from a DataFrame.\n",
      "Try using .loc[row_indexer,col_indexer] = value instead\n",
      "\n",
      "See the caveats in the documentation: http://pandas.pydata.org/pandas-docs/stable/indexing.html#indexing-view-versus-copy\n",
      "  \n"
     ]
    },
    {
     "data": {
      "text/html": [
       "<div>\n",
       "<style scoped>\n",
       "    .dataframe tbody tr th:only-of-type {\n",
       "        vertical-align: middle;\n",
       "    }\n",
       "\n",
       "    .dataframe tbody tr th {\n",
       "        vertical-align: top;\n",
       "    }\n",
       "\n",
       "    .dataframe thead th {\n",
       "        text-align: right;\n",
       "    }\n",
       "</style>\n",
       "<table border=\"1\" class=\"dataframe\">\n",
       "  <thead>\n",
       "    <tr style=\"text-align: right;\">\n",
       "      <th></th>\n",
       "      <th>taxi_id</th>\n",
       "      <th>time</th>\n",
       "      <th>longitude</th>\n",
       "      <th>latitude</th>\n",
       "      <th>occupancy_status</th>\n",
       "      <th>speed</th>\n",
       "      <th>route_number</th>\n",
       "      <th>route_start</th>\n",
       "      <th>route_end</th>\n",
       "    </tr>\n",
       "  </thead>\n",
       "  <tbody>\n",
       "    <tr>\n",
       "      <th>14915</th>\n",
       "      <td>22228</td>\n",
       "      <td>2018-12-08 00:00:10</td>\n",
       "      <td>113.988853</td>\n",
       "      <td>22.536200</td>\n",
       "      <td>1</td>\n",
       "      <td>42</td>\n",
       "      <td>500001</td>\n",
       "      <td>True</td>\n",
       "      <td>False</td>\n",
       "    </tr>\n",
       "    <tr>\n",
       "      <th>10845</th>\n",
       "      <td>22228</td>\n",
       "      <td>2018-12-08 00:00:40</td>\n",
       "      <td>113.984467</td>\n",
       "      <td>22.536383</td>\n",
       "      <td>1</td>\n",
       "      <td>69</td>\n",
       "      <td>500001</td>\n",
       "      <td>False</td>\n",
       "      <td>False</td>\n",
       "    </tr>\n",
       "    <tr>\n",
       "      <th>13495</th>\n",
       "      <td>22228</td>\n",
       "      <td>2018-12-08 00:00:54</td>\n",
       "      <td>113.982170</td>\n",
       "      <td>22.536467</td>\n",
       "      <td>1</td>\n",
       "      <td>58</td>\n",
       "      <td>500001</td>\n",
       "      <td>False</td>\n",
       "      <td>False</td>\n",
       "    </tr>\n",
       "    <tr>\n",
       "      <th>13677</th>\n",
       "      <td>22228</td>\n",
       "      <td>2018-12-08 00:01:10</td>\n",
       "      <td>113.979202</td>\n",
       "      <td>22.536516</td>\n",
       "      <td>1</td>\n",
       "      <td>76</td>\n",
       "      <td>500001</td>\n",
       "      <td>False</td>\n",
       "      <td>False</td>\n",
       "    </tr>\n",
       "    <tr>\n",
       "      <th>12673</th>\n",
       "      <td>22228</td>\n",
       "      <td>2018-12-08 00:01:24</td>\n",
       "      <td>113.976646</td>\n",
       "      <td>22.536850</td>\n",
       "      <td>1</td>\n",
       "      <td>68</td>\n",
       "      <td>500001</td>\n",
       "      <td>False</td>\n",
       "      <td>False</td>\n",
       "    </tr>\n",
       "  </tbody>\n",
       "</table>\n",
       "</div>"
      ],
      "text/plain": [
       "       taxi_id                time   longitude   latitude  occupancy_status  \\\n",
       "14915    22228 2018-12-08 00:00:10  113.988853  22.536200                 1   \n",
       "10845    22228 2018-12-08 00:00:40  113.984467  22.536383                 1   \n",
       "13495    22228 2018-12-08 00:00:54  113.982170  22.536467                 1   \n",
       "13677    22228 2018-12-08 00:01:10  113.979202  22.536516                 1   \n",
       "12673    22228 2018-12-08 00:01:24  113.976646  22.536850                 1   \n",
       "\n",
       "       speed  route_number  route_start  route_end  \n",
       "14915     42        500001         True      False  \n",
       "10845     69        500001        False      False  \n",
       "13495     58        500001        False      False  \n",
       "13677     76        500001        False      False  \n",
       "12673     68        500001        False      False  "
      ]
     },
     "execution_count": 21,
     "metadata": {},
     "output_type": "execute_result"
    }
   ],
   "source": [
    "labeled = labeled[labeled['route_number'] != -1]\n",
    "labeled[\"route_number\"] = labeled[\"route_number\"] + 500000 \n",
    "labeled.head()"
   ]
  },
  {
   "cell_type": "code",
   "execution_count": 22,
   "metadata": {},
   "outputs": [
    {
     "name": "stdout",
     "output_type": "stream",
     "text": [
      "185169\n",
      "182855\n"
     ]
    }
   ],
   "source": [
    "labeled_starts = labeled[labeled['route_start'] == True]\n",
    "print(len(labeled_starts))\n",
    "\n",
    "labeled_ends = labeled[labeled['route_end'] == True]\n",
    "print(len(labeled_ends))"
   ]
  },
  {
   "cell_type": "code",
   "execution_count": 23,
   "metadata": {},
   "outputs": [
    {
     "name": "stdout",
     "output_type": "stream",
     "text": [
      "There are  3540  taxi ids in this dataset!\n",
      "There are  5736  GPS readings in your latitude range!\n",
      "There are  1622  GPS readings in your latitude and longitude range!\n",
      "There are  1347  taxi ids near the airport!\n",
      "1622\n"
     ]
    }
   ],
   "source": [
    "north_train_starts = filter_data_by_gps(labeled_starts,\n",
    "                                         train_station_north_gps_min[0],\n",
    "                                         train_station_north_gps_max[0],\n",
    "                                         train_station_north_gps_min[1],\n",
    "                                         train_station_north_gps_max[1],\n",
    "                                         with_pass=False)\n",
    "print(len(north_train_starts))"
   ]
  },
  {
   "cell_type": "code",
   "execution_count": 24,
   "metadata": {},
   "outputs": [
    {
     "name": "stdout",
     "output_type": "stream",
     "text": [
      "There are  3540  taxi ids in this dataset!\n",
      "There are  127524  GPS readings in your latitude range!\n",
      "There are  38995  GPS readings in your latitude and longitude range!\n",
      "There are  3429  taxi ids near the airport!\n",
      "38995\n"
     ]
    }
   ],
   "source": [
    "west_train_starts = filter_data_by_gps(labeled_starts,\n",
    "                                        train_station_west_gps[0] - lat_diff,\n",
    "                                        train_station_west_gps[0] + lat_diff,\n",
    "                                        train_station_west_gps[1] - long_diff,\n",
    "                                        train_station_west_gps[1] + long_diff,\n",
    "                                        with_pass=False)\n",
    "print(len(west_train_starts))"
   ]
  },
  {
   "cell_type": "code",
   "execution_count": 25,
   "metadata": {},
   "outputs": [
    {
     "name": "stdout",
     "output_type": "stream",
     "text": [
      "There are  3480  taxi ids in this dataset!\n",
      "There are  5802  GPS readings in your latitude range!\n",
      "There are  1971  GPS readings in your latitude and longitude range!\n",
      "There are  1569  taxi ids near the airport!\n",
      "1971\n"
     ]
    }
   ],
   "source": [
    "north_train_ends = filter_data_by_gps(labeled_ends,\n",
    "                                      train_station_north_gps_min[0],\n",
    "                                      train_station_north_gps_max[0],\n",
    "                                      train_station_north_gps_min[1],\n",
    "                                      train_station_north_gps_max[1],\n",
    "                                      with_pass=False)\n",
    "print(len(north_train_ends))"
   ]
  },
  {
   "cell_type": "code",
   "execution_count": 26,
   "metadata": {},
   "outputs": [
    {
     "name": "stdout",
     "output_type": "stream",
     "text": [
      "There are  3480  taxi ids in this dataset!\n",
      "There are  120001  GPS readings in your latitude range!\n",
      "There are  35819  GPS readings in your latitude and longitude range!\n",
      "There are  3433  taxi ids near the airport!\n",
      "35819\n"
     ]
    }
   ],
   "source": [
    "west_train_ends = filter_data_by_gps(labeled_ends,\n",
    "                                     train_station_west_gps[0] - lat_diff,\n",
    "                                     train_station_west_gps[0] + lat_diff,\n",
    "                                     train_station_west_gps[1] - long_diff,\n",
    "                                     train_station_west_gps[1] + long_diff,\n",
    "                                     with_pass=False)\n",
    "print(len(west_train_ends))"
   ]
  },
  {
   "cell_type": "code",
   "execution_count": 27,
   "metadata": {},
   "outputs": [],
   "source": [
    "def find_column_intersection(df1, df2, col_name):\n",
    "    \"\"\"\n",
    "    :param df1: data-frame\n",
    "    :param df2: data-frame\n",
    "    :param col_name: name of column\n",
    "    :return: list of values in both columns\n",
    "    \"\"\"\n",
    "\n",
    "    col_one_unique = df1[col_name].unique()\n",
    "    col_two_unique = df2[col_name].unique()\n",
    "    intersection = list(set(col_one_unique) & set(col_two_unique))\n",
    "    \n",
    "    return intersection"
   ]
  },
  {
   "cell_type": "code",
   "execution_count": 28,
   "metadata": {},
   "outputs": [
    {
     "name": "stdout",
     "output_type": "stream",
     "text": [
      "208\n"
     ]
    }
   ],
   "source": [
    "north_to_west_train_route_numbers = find_column_intersection(north_train_starts, west_train_ends, 'route_number')\n",
    "print(len(north_to_west_train_route_numbers))"
   ]
  },
  {
   "cell_type": "code",
   "execution_count": 29,
   "metadata": {},
   "outputs": [
    {
     "name": "stdout",
     "output_type": "stream",
     "text": [
      "312\n"
     ]
    }
   ],
   "source": [
    "west_to_north_train_route_numbers = find_column_intersection(west_train_starts, north_train_ends, 'route_number')\n",
    "print(len(west_to_north_train_route_numbers))"
   ]
  },
  {
   "cell_type": "code",
   "execution_count": 30,
   "metadata": {},
   "outputs": [],
   "source": [
    "def get_rows_with_col_value_in(df, val_list, col_name):\n",
    "    return df[df[col_name].isin(val_list)]"
   ]
  },
  {
   "cell_type": "code",
   "execution_count": 31,
   "metadata": {},
   "outputs": [],
   "source": [
    "north_to_west_route_df = get_rows_with_col_value_in(labeled, \n",
    "                                                    north_to_west_train_route_numbers, \n",
    "                                                    'route_number')"
   ]
  },
  {
   "cell_type": "code",
   "execution_count": 32,
   "metadata": {},
   "outputs": [],
   "source": [
    "west_to_north_route_df = get_rows_with_col_value_in(labeled, \n",
    "                                                    west_to_north_train_route_numbers, \n",
    "                                                    'route_number')"
   ]
  },
  {
   "cell_type": "code",
   "execution_count": 33,
   "metadata": {},
   "outputs": [],
   "source": [
    "north_to_west_route_df.to_csv('north-to-west-routes-no-grids.csv', encoding='utf-8', index=False)\n",
    "west_to_north_route_df.to_csv('west-to-north-routes-no-grids.csv', encoding='utf-8', index=False)"
   ]
  },
  {
   "cell_type": "code",
   "execution_count": null,
   "metadata": {},
   "outputs": [],
   "source": []
  }
 ],
 "metadata": {
  "kernelspec": {
   "display_name": "Python 3",
   "language": "python",
   "name": "python3"
  },
  "language_info": {
   "codemirror_mode": {
    "name": "ipython",
    "version": 3
   },
   "file_extension": ".py",
   "mimetype": "text/x-python",
   "name": "python",
   "nbconvert_exporter": "python",
   "pygments_lexer": "ipython3",
   "version": "3.6.4"
  }
 },
 "nbformat": 4,
 "nbformat_minor": 2
}
