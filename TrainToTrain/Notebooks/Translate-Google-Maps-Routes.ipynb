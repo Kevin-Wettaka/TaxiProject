{
 "cells": [
  {
   "cell_type": "code",
   "execution_count": 1,
   "metadata": {},
   "outputs": [],
   "source": [
    "import pandas as pd\n",
    "import os"
   ]
  },
  {
   "cell_type": "code",
   "execution_count": 2,
   "metadata": {},
   "outputs": [],
   "source": [
    "def load_google_map_dfs():\n",
    "    base_path = os.getcwd()\n",
    "    dfs = []\n",
    "    column_names = ['latitude', 'longitude']\n",
    "    \n",
    "    file_names = ['North-Train-To-West-Left-Google-Maps-Route.csv',\n",
    "                  'North-Train-To-West-Middle-Google-Maps-Route.csv',\n",
    "                  'West-Train-To-North-Bottom-Google-Maps-Route.csv',\n",
    "                  'West-Train-To-North-Middle-Google-Maps-Route.csv',\n",
    "                  'West-Train-To-North-Top-Google-Maps-Route.csv'\n",
    "                  ]\n",
    "\n",
    "    for file_name in file_names:\n",
    "        df = pd.read_csv(base_path + '/' + file_name)\n",
    "        df.columns = column_names\n",
    "        dfs.append(df)\n",
    "\n",
    "    return dfs"
   ]
  },
  {
   "cell_type": "code",
   "execution_count": 3,
   "metadata": {},
   "outputs": [],
   "source": [
    "google_maps_routes = load_google_map_dfs()"
   ]
  },
  {
   "cell_type": "code",
   "execution_count": 5,
   "metadata": {},
   "outputs": [],
   "source": [
    "max_lat = 23.0\n",
    "min_lat = 22.0\n",
    "\n",
    "min_long = 113\n",
    "max_long = 115\n",
    "\n",
    "diff_in_latitude = max_lat - min_lat\n",
    "diff_in_longitude = max_long - min_long\n",
    "\n",
    "\n",
    "cell_size = diff_in_latitude / 20.0"
   ]
  },
  {
   "cell_type": "code",
   "execution_count": 6,
   "metadata": {},
   "outputs": [],
   "source": [
    "def concat(row, col):\n",
    "    return str(row) + '-' + str(col)\n",
    "\n",
    "\n",
    "def map_gps_to_box(latitude, longitude):\n",
    "    row_number = int((latitude - min_lat) // cell_size)\n",
    "    col_number = int((longitude - min_long) // cell_size)\n",
    "\n",
    "    if col_number < 0 or row_number < 0:\n",
    "        return -1, -1, -1\n",
    "\n",
    "    cell_number_str = str(row_number) + str(col_number)\n",
    "\n",
    "    return concat(row_number, col_number), row_number, col_number"
   ]
  },
  {
   "cell_type": "code",
   "execution_count": 7,
   "metadata": {},
   "outputs": [],
   "source": [
    "def map_gps_to_cell(df):\n",
    "    cells = []\n",
    "    rows = []\n",
    "    cols = []\n",
    "\n",
    "    for index, row in df.iterrows():\n",
    "        lat = row['latitude']\n",
    "        long = row['longitude']\n",
    "\n",
    "        cell_number, cell_row, cell_col = map_gps_to_box(lat, long)\n",
    "\n",
    "        cells.append(cell_number)\n",
    "        cols.append(cell_col)\n",
    "        rows.append(cell_row)\n",
    "\n",
    "    df['cell'] = cells\n",
    "    df['row'] = rows\n",
    "    df['column'] = cols\n",
    "\n",
    "    return df"
   ]
  },
  {
   "cell_type": "code",
   "execution_count": 8,
   "metadata": {},
   "outputs": [],
   "source": [
    "def map_google_maps_routes_to_cells(df_list):\n",
    "    with_cells = []\n",
    "    for df in df_list:\n",
    "        df = map_gps_to_cell(df)\n",
    "        with_cells.append(df)\n",
    "    return with_cells"
   ]
  },
  {
   "cell_type": "code",
   "execution_count": 9,
   "metadata": {},
   "outputs": [],
   "source": [
    "google_maps_with_cells = map_google_maps_routes_to_cells(google_maps_routes)"
   ]
  },
  {
   "cell_type": "code",
   "execution_count": 12,
   "metadata": {},
   "outputs": [],
   "source": [
    "def save_google_maps_routes_with_cells(route_df_list):\n",
    "    file_names = ['North-Train-To-West-Left-Google-Maps-Route-Cells.csv',\n",
    "                  'North-Train-To-West-Middle-Google-Maps-Route-Cells.csv',\n",
    "                  'West-Train-To-North-Bottom-Google-Maps-Route-Cells.csv',\n",
    "                  'West-Train-To-North-Middle-Google-Maps-Route-Cells.csv',\n",
    "                  'West-Train-To-North-Top-Google-Maps-Route-Cells.csv'\n",
    "                  ]\n",
    "\n",
    "    for index, df in enumerate(route_df_list):\n",
    "        df.to_csv(file_names[index], encoding='utf-8', index=False)\n",
    "    \n",
    "    return"
   ]
  },
  {
   "cell_type": "code",
   "execution_count": 13,
   "metadata": {},
   "outputs": [],
   "source": [
    "save_google_maps_routes_with_cells(google_maps_with_cells)"
   ]
  },
  {
   "cell_type": "code",
   "execution_count": null,
   "metadata": {},
   "outputs": [],
   "source": []
  }
 ],
 "metadata": {
  "kernelspec": {
   "display_name": "Python 3",
   "language": "python",
   "name": "python3"
  },
  "language_info": {
   "codemirror_mode": {
    "name": "ipython",
    "version": 3
   },
   "file_extension": ".py",
   "mimetype": "text/x-python",
   "name": "python",
   "nbconvert_exporter": "python",
   "pygments_lexer": "ipython3",
   "version": "3.6.4"
  }
 },
 "nbformat": 4,
 "nbformat_minor": 2
}
